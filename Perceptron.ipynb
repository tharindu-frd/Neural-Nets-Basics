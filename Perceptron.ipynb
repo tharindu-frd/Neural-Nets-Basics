{
 "cells": [
  {
   "cell_type": "markdown",
   "id": "d88c4601-4346-49b4-8b00-bdca13915135",
   "metadata": {},
   "source": [
    "# Perceptron "
   ]
  },
  {
   "cell_type": "code",
   "execution_count": 6,
   "id": "2adf3dcb-0aa5-499d-ae71-132540d4c8fb",
   "metadata": {},
   "outputs": [],
   "source": [
    "import numpy as np\n",
    "import pandas as pd \n",
    "import math"
   ]
  },
  {
   "cell_type": "code",
   "execution_count": null,
   "id": "c8546c87-6440-4196-9c61-de09eb5b9be2",
   "metadata": {},
   "outputs": [],
   "source": [
    "#####  concatination \n",
    "X_with_bias = np.c_[self.X, -np.ones((len(self.X), 1))]\n",
    " # np.c: 'c' stands for concatination ,we want to  add a column of -1s as the bias  for our data matrix"
   ]
  },
  {
   "cell_type": "code",
   "execution_count": 110,
   "id": "b9e6c005-5a9b-44a0-8b66-02614c2c456f",
   "metadata": {},
   "outputs": [],
   "source": [
    "class Perceptron:\n",
    "    def __init__(self, eta: float=None , epochs: int=None):\n",
    "        self.weights = None \n",
    "        # Since this is a single perceptron we can define any number of weights we want \n",
    "        self.eta = eta\n",
    "        self.epochs = epochs\n",
    "        \n",
    "    def dot_product_of_inputs_and_weights(self,inputs,weights):\n",
    "        return np.dot(inputs,weights)\n",
    "\n",
    "    def activation(self, z):\n",
    "        return [1 / (1 + math.exp(-val)) for val in z]  # Here we use sigmoid activation \n",
    "\n",
    "    def loss_function(self,vector1,vector2) :\n",
    "        difference = vector1 - vector2\n",
    "        squared_difference_and_divide_by_2 = np.square(difference)*0.5\n",
    "        return np.sum(squared_difference_and_divide_by_2)\n",
    "\n",
    "   \n",
    "    def fit(self,X,y):\n",
    "        self.X = X\n",
    "        self.y = y\n",
    "        self.weights = np.random.randn(X.shape[1]) * (1e-4)  # 1e -4 :  10^-4\n",
    "        # Initialize weights for each individual predictor variables \n",
    "        \n",
    "        for epoch in range(self.epochs):\n",
    "            output = self.dot_product_of_inputs_and_weights(X , self.weights)\n",
    "            output_after_activation = self.activation(output)\n",
    "            self.error = self.loss_function(self.y ,output_after_activation)\n",
    "           \n",
    "\n",
    "            ## Gradient descent \n",
    "            prod = self.eta*self.error\n",
    "            out_1 = prod*np.array(output_after_activation)\n",
    "            out_2  = np.array([1.0 - val for val in output_after_activation])\n",
    "            self.weights = self.weights - (out_1*out_2)\n",
    "\n",
    "\n",
    "    def predict(self,X):\n",
    "        return self.activation(self.dot_product_of_inputs_and_weights(X,self.weights))\n",
    "        "
   ]
  },
  {
   "cell_type": "code",
   "execution_count": null,
   "id": "b005b9a2-fd5d-4764-ad43-3f50ddbffd0c",
   "metadata": {},
   "outputs": [],
   "source": []
  },
  {
   "cell_type": "code",
   "execution_count": null,
   "id": "e06e1164-9fa9-4a01-98d7-040298000029",
   "metadata": {},
   "outputs": [],
   "source": []
  },
  {
   "cell_type": "code",
   "execution_count": 111,
   "id": "c552e3cc-0aa6-4d68-8370-c5ab87958723",
   "metadata": {},
   "outputs": [
    {
     "data": {
      "text/html": [
       "<div>\n",
       "<style scoped>\n",
       "    .dataframe tbody tr th:only-of-type {\n",
       "        vertical-align: middle;\n",
       "    }\n",
       "\n",
       "    .dataframe tbody tr th {\n",
       "        vertical-align: top;\n",
       "    }\n",
       "\n",
       "    .dataframe thead th {\n",
       "        text-align: right;\n",
       "    }\n",
       "</style>\n",
       "<table border=\"1\" class=\"dataframe\">\n",
       "  <thead>\n",
       "    <tr style=\"text-align: right;\">\n",
       "      <th></th>\n",
       "      <th>x1</th>\n",
       "      <th>x2</th>\n",
       "      <th>y</th>\n",
       "    </tr>\n",
       "  </thead>\n",
       "  <tbody>\n",
       "    <tr>\n",
       "      <th>0</th>\n",
       "      <td>0</td>\n",
       "      <td>0</td>\n",
       "      <td>0</td>\n",
       "    </tr>\n",
       "    <tr>\n",
       "      <th>1</th>\n",
       "      <td>0</td>\n",
       "      <td>1</td>\n",
       "      <td>1</td>\n",
       "    </tr>\n",
       "    <tr>\n",
       "      <th>2</th>\n",
       "      <td>1</td>\n",
       "      <td>0</td>\n",
       "      <td>1</td>\n",
       "    </tr>\n",
       "    <tr>\n",
       "      <th>3</th>\n",
       "      <td>1</td>\n",
       "      <td>1</td>\n",
       "      <td>1</td>\n",
       "    </tr>\n",
       "  </tbody>\n",
       "</table>\n",
       "</div>"
      ],
      "text/plain": [
       "   x1  x2  y\n",
       "0   0   0  0\n",
       "1   0   1  1\n",
       "2   1   0  1\n",
       "3   1   1  1"
      ]
     },
     "execution_count": 111,
     "metadata": {},
     "output_type": "execute_result"
    }
   ],
   "source": [
    "OR = {\n",
    "    \"x1\": [0,0,1,1],\n",
    "    \"x2\": [0,1,0,1],\n",
    "    \"y\" : [0,1,1,1]\n",
    "}\n",
    "\n",
    "df_OR = pd.DataFrame(OR)\n",
    "\n",
    "df_OR"
   ]
  },
  {
   "cell_type": "code",
   "execution_count": 112,
   "id": "6a8b734e-a0fa-44ab-929c-b5c1dcd7dd65",
   "metadata": {},
   "outputs": [],
   "source": [
    "def prepare_data(df, target_col=\"y\"):\n",
    "    X = df.drop(target_col, axis=1)\n",
    "    y = df[target_col]\n",
    "    \n",
    "    return X, y"
   ]
  },
  {
   "cell_type": "code",
   "execution_count": 113,
   "id": "0e1f4f22-cbef-49bf-8400-dda3a4ebc7f6",
   "metadata": {},
   "outputs": [
    {
     "data": {
      "text/html": [
       "<div>\n",
       "<style scoped>\n",
       "    .dataframe tbody tr th:only-of-type {\n",
       "        vertical-align: middle;\n",
       "    }\n",
       "\n",
       "    .dataframe tbody tr th {\n",
       "        vertical-align: top;\n",
       "    }\n",
       "\n",
       "    .dataframe thead th {\n",
       "        text-align: right;\n",
       "    }\n",
       "</style>\n",
       "<table border=\"1\" class=\"dataframe\">\n",
       "  <thead>\n",
       "    <tr style=\"text-align: right;\">\n",
       "      <th></th>\n",
       "      <th>x1</th>\n",
       "      <th>x2</th>\n",
       "    </tr>\n",
       "  </thead>\n",
       "  <tbody>\n",
       "    <tr>\n",
       "      <th>0</th>\n",
       "      <td>0</td>\n",
       "      <td>0</td>\n",
       "    </tr>\n",
       "    <tr>\n",
       "      <th>1</th>\n",
       "      <td>0</td>\n",
       "      <td>1</td>\n",
       "    </tr>\n",
       "    <tr>\n",
       "      <th>2</th>\n",
       "      <td>1</td>\n",
       "      <td>0</td>\n",
       "    </tr>\n",
       "    <tr>\n",
       "      <th>3</th>\n",
       "      <td>1</td>\n",
       "      <td>1</td>\n",
       "    </tr>\n",
       "  </tbody>\n",
       "</table>\n",
       "</div>"
      ],
      "text/plain": [
       "   x1  x2\n",
       "0   0   0\n",
       "1   0   1\n",
       "2   1   0\n",
       "3   1   1"
      ]
     },
     "execution_count": 113,
     "metadata": {},
     "output_type": "execute_result"
    }
   ],
   "source": [
    "X, y = prepare_data(df_OR)\n",
    "X"
   ]
  },
  {
   "cell_type": "code",
   "execution_count": null,
   "id": "d2616980-c665-4b54-9f40-3d03529564a5",
   "metadata": {},
   "outputs": [],
   "source": [
    "X, y = prepare_data(df_OR)\n",
    "\n",
    "ETA = 0.1\n",
    "EPOCHS = 10\n",
    "\n",
    "model_or = Perceptron(eta=ETA, epochs=EPOCHS)\n",
    "\n",
    "a = model_or.fit(X, y)"
   ]
  },
  {
   "cell_type": "code",
   "execution_count": null,
   "id": "e9247c5f-656e-45c6-8a3a-6383f790f360",
   "metadata": {},
   "outputs": [],
   "source": []
  },
  {
   "cell_type": "code",
   "execution_count": null,
   "id": "c85dcba3-b945-4955-b275-11bfe6408f3c",
   "metadata": {},
   "outputs": [],
   "source": []
  },
  {
   "cell_type": "code",
   "execution_count": null,
   "id": "42741905-b80a-4e97-b7c6-2cbf8ef4e7c7",
   "metadata": {},
   "outputs": [],
   "source": []
  },
  {
   "cell_type": "code",
   "execution_count": null,
   "id": "55fae2d7-ab56-491d-a0a2-2abbafa9ea76",
   "metadata": {},
   "outputs": [],
   "source": []
  }
 ],
 "metadata": {
  "kernelspec": {
   "display_name": "Python 3",
   "language": "python",
   "name": "python3"
  },
  "language_info": {
   "codemirror_mode": {
    "name": "ipython",
    "version": 3
   },
   "file_extension": ".py",
   "mimetype": "text/x-python",
   "name": "python",
   "nbconvert_exporter": "python",
   "pygments_lexer": "ipython3",
   "version": "3.11.5"
  }
 },
 "nbformat": 4,
 "nbformat_minor": 5
}
